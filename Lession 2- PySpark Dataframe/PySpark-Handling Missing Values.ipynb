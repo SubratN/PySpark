{
 "cells": [
  {
   "cell_type": "code",
   "execution_count": 1,
   "id": "8883d8af",
   "metadata": {},
   "outputs": [],
   "source": [
    "from pyspark.sql import SparkSession"
   ]
  },
  {
   "cell_type": "code",
   "execution_count": 2,
   "id": "ce49cd2b",
   "metadata": {},
   "outputs": [],
   "source": [
    "spark = SparkSession.builder.appName('Pyspark').getOrCreate()"
   ]
  },
  {
   "cell_type": "code",
   "execution_count": 3,
   "id": "db6f62d7",
   "metadata": {},
   "outputs": [
    {
     "data": {
      "text/html": [
       "\n",
       "            <div>\n",
       "                <p><b>SparkSession - in-memory</b></p>\n",
       "                \n",
       "        <div>\n",
       "            <p><b>SparkContext</b></p>\n",
       "\n",
       "            <p><a href=\"http://LAPTOP-N7GS2PFU:4040\">Spark UI</a></p>\n",
       "\n",
       "            <dl>\n",
       "              <dt>Version</dt>\n",
       "                <dd><code>v3.3.1</code></dd>\n",
       "              <dt>Master</dt>\n",
       "                <dd><code>local[*]</code></dd>\n",
       "              <dt>AppName</dt>\n",
       "                <dd><code>Pyspark</code></dd>\n",
       "            </dl>\n",
       "        </div>\n",
       "        \n",
       "            </div>\n",
       "        "
      ],
      "text/plain": [
       "<pyspark.sql.session.SparkSession at 0x2379d2dcac0>"
      ]
     },
     "execution_count": 3,
     "metadata": {},
     "output_type": "execute_result"
    }
   ],
   "source": [
    "spark"
   ]
  },
  {
   "cell_type": "markdown",
   "id": "98ce5fd4",
   "metadata": {},
   "source": [
    "### Create PySpark Dataframe"
   ]
  },
  {
   "cell_type": "code",
   "execution_count": 43,
   "id": "711e73dd",
   "metadata": {},
   "outputs": [],
   "source": [
    "df_spark = spark.read.csv('test2.csv',header= True, inferSchema=True)"
   ]
  },
  {
   "cell_type": "code",
   "execution_count": 44,
   "id": "78c624ca",
   "metadata": {},
   "outputs": [
    {
     "name": "stdout",
     "output_type": "stream",
     "text": [
      "+------+----+----------+------+\n",
      "|  Name| age|Experience|Salary|\n",
      "+------+----+----------+------+\n",
      "|   Sam|  31|        10| 30000|\n",
      "| Carry|  30|         8| 25000|\n",
      "| Jimmy|  29|         4| 20000|\n",
      "|  Paul|  24|         3| 20000|\n",
      "|Harsha|  21|         1| 15000|\n",
      "|  Andy|  23|         2| 18000|\n",
      "|Alisha|null|      null| 40000|\n",
      "|  null|  34|        10| 38000|\n",
      "|  null|  36|      null|  null|\n",
      "+------+----+----------+------+\n",
      "\n"
     ]
    }
   ],
   "source": [
    "df_spark.show()"
   ]
  },
  {
   "cell_type": "code",
   "execution_count": 45,
   "id": "5b6ef696",
   "metadata": {},
   "outputs": [
    {
     "name": "stdout",
     "output_type": "stream",
     "text": [
      "root\n",
      " |-- Name: string (nullable = true)\n",
      " |-- age: integer (nullable = true)\n",
      " |-- Experience: integer (nullable = true)\n",
      " |-- Salary: integer (nullable = true)\n",
      "\n"
     ]
    }
   ],
   "source": [
    "df_spark.printSchema()"
   ]
  },
  {
   "cell_type": "markdown",
   "id": "9cdec237",
   "metadata": {},
   "source": [
    "### Drop the column"
   ]
  },
  {
   "cell_type": "code",
   "execution_count": 46,
   "id": "3b11db76",
   "metadata": {},
   "outputs": [
    {
     "name": "stdout",
     "output_type": "stream",
     "text": [
      "+------+----------+------+\n",
      "|  Name|Experience|Salary|\n",
      "+------+----------+------+\n",
      "|   Sam|        10| 30000|\n",
      "| Carry|         8| 25000|\n",
      "| Jimmy|         4| 20000|\n",
      "|  Paul|         3| 20000|\n",
      "|Harsha|         1| 15000|\n",
      "|  Andy|         2| 18000|\n",
      "|Alisha|      null| 40000|\n",
      "|  null|        10| 38000|\n",
      "|  null|      null|  null|\n",
      "+------+----------+------+\n",
      "\n"
     ]
    }
   ],
   "source": [
    "df_spark.drop('age').show()"
   ]
  },
  {
   "cell_type": "markdown",
   "id": "c575ecee",
   "metadata": {},
   "source": [
    "### Dropping the null value columns"
   ]
  },
  {
   "cell_type": "code",
   "execution_count": 48,
   "id": "e66d375f",
   "metadata": {},
   "outputs": [
    {
     "name": "stdout",
     "output_type": "stream",
     "text": [
      "+------+---+----------+------+\n",
      "|  Name|age|Experience|Salary|\n",
      "+------+---+----------+------+\n",
      "|   Sam| 31|        10| 30000|\n",
      "| Carry| 30|         8| 25000|\n",
      "| Jimmy| 29|         4| 20000|\n",
      "|  Paul| 24|         3| 20000|\n",
      "|Harsha| 21|         1| 15000|\n",
      "|  Andy| 23|         2| 18000|\n",
      "+------+---+----------+------+\n",
      "\n"
     ]
    }
   ],
   "source": [
    "# drop(how='any') --> It will delete all the records which is having a null record.\n",
    "\n",
    "df_spark.na.drop(how='any').show()"
   ]
  },
  {
   "cell_type": "code",
   "execution_count": 49,
   "id": "c472040c",
   "metadata": {},
   "outputs": [
    {
     "name": "stdout",
     "output_type": "stream",
     "text": [
      "+------+----+----------+------+\n",
      "|  Name| age|Experience|Salary|\n",
      "+------+----+----------+------+\n",
      "|   Sam|  31|        10| 30000|\n",
      "| Carry|  30|         8| 25000|\n",
      "| Jimmy|  29|         4| 20000|\n",
      "|  Paul|  24|         3| 20000|\n",
      "|Harsha|  21|         1| 15000|\n",
      "|  Andy|  23|         2| 18000|\n",
      "|Alisha|null|      null| 40000|\n",
      "|  null|  34|        10| 38000|\n",
      "|  null|  36|      null|  null|\n",
      "+------+----+----------+------+\n",
      "\n"
     ]
    }
   ],
   "source": [
    "# drop(how='all') --> It will delete all the records which is having a null record.\n",
    "\n",
    "df_spark.na.drop(how='all').show()"
   ]
  },
  {
   "cell_type": "code",
   "execution_count": 50,
   "id": "516b6864",
   "metadata": {},
   "outputs": [
    {
     "name": "stdout",
     "output_type": "stream",
     "text": [
      "+------+----+----------+------+\n",
      "|  Name| age|Experience|Salary|\n",
      "+------+----+----------+------+\n",
      "|   Sam|  31|        10| 30000|\n",
      "| Carry|  30|         8| 25000|\n",
      "| Jimmy|  29|         4| 20000|\n",
      "|  Paul|  24|         3| 20000|\n",
      "|Harsha|  21|         1| 15000|\n",
      "|  Andy|  23|         2| 18000|\n",
      "|Alisha|null|      null| 40000|\n",
      "|  null|  34|        10| 38000|\n",
      "+------+----+----------+------+\n",
      "\n"
     ]
    }
   ],
   "source": [
    "# setting the threshold values for null\n",
    "\n",
    "df_spark.na.drop(how='any', thresh=2).show()"
   ]
  },
  {
   "cell_type": "markdown",
   "id": "c3a20f9b",
   "metadata": {},
   "source": [
    "- As we have set threshold value to 2, it will drop the records which is having more than 2 null values."
   ]
  },
  {
   "cell_type": "code",
   "execution_count": 52,
   "id": "82b27064",
   "metadata": {},
   "outputs": [
    {
     "name": "stdout",
     "output_type": "stream",
     "text": [
      "+------+---+----------+------+\n",
      "|  Name|age|Experience|Salary|\n",
      "+------+---+----------+------+\n",
      "|   Sam| 31|        10| 30000|\n",
      "| Carry| 30|         8| 25000|\n",
      "| Jimmy| 29|         4| 20000|\n",
      "|  Paul| 24|         3| 20000|\n",
      "|Harsha| 21|         1| 15000|\n",
      "|  Andy| 23|         2| 18000|\n",
      "|  null| 34|        10| 38000|\n",
      "|  null| 36|      null|  null|\n",
      "+------+---+----------+------+\n",
      "\n"
     ]
    }
   ],
   "source": [
    "## using Subset parameter\n",
    "\n",
    "df_spark.na.drop(how=\"any\", subset=['Age']).show()"
   ]
  },
  {
   "cell_type": "markdown",
   "id": "bde80ced",
   "metadata": {},
   "source": [
    "- By using subset in drop function we can delete null values from a particular column."
   ]
  },
  {
   "cell_type": "markdown",
   "id": "df536cbb",
   "metadata": {},
   "source": [
    "### Filling the missing values"
   ]
  },
  {
   "cell_type": "code",
   "execution_count": 55,
   "id": "b099b0b8",
   "metadata": {},
   "outputs": [
    {
     "name": "stdout",
     "output_type": "stream",
     "text": [
      "+-------+----+----------+------+\n",
      "|   Name| age|Experience|Salary|\n",
      "+-------+----+----------+------+\n",
      "|    Sam|  31|        10| 30000|\n",
      "|  Carry|  30|         8| 25000|\n",
      "|  Jimmy|  29|         4| 20000|\n",
      "|   Paul|  24|         3| 20000|\n",
      "| Harsha|  21|         1| 15000|\n",
      "|   Andy|  23|         2| 18000|\n",
      "| Alisha|null|      null| 40000|\n",
      "|missing|  34|        10| 38000|\n",
      "|missing|  36|      null|  null|\n",
      "+-------+----+----------+------+\n",
      "\n"
     ]
    }
   ],
   "source": [
    "df_spark.na.fill(value='missing',subset=['Name']).show()"
   ]
  },
  {
   "cell_type": "code",
   "execution_count": 64,
   "id": "627d4b99",
   "metadata": {},
   "outputs": [
    {
     "name": "stdout",
     "output_type": "stream",
     "text": [
      "+-------+----+----------+------+\n",
      "|   Name| age|Experience|Salary|\n",
      "+-------+----+----------+------+\n",
      "|    Sam|  31|        10| 30000|\n",
      "|  Carry|  30|         8| 25000|\n",
      "|  Jimmy|  29|         4| 20000|\n",
      "|   Paul|  24|         3| 20000|\n",
      "| Harsha|  21|         1| 15000|\n",
      "|   Andy|  23|         2| 18000|\n",
      "| Alisha|null|         5| 40000|\n",
      "|Missing|  34|        10| 38000|\n",
      "|Missing|  36|         5|  null|\n",
      "+-------+----+----------+------+\n",
      "\n"
     ]
    }
   ],
   "source": [
    "df_spark.na.fill({'Name':'Missing', 'Experience':5}).show()"
   ]
  },
  {
   "cell_type": "markdown",
   "id": "7ae33e72",
   "metadata": {},
   "source": [
    "### Fill missing values using PySpark ML library"
   ]
  },
  {
   "cell_type": "code",
   "execution_count": 66,
   "id": "5d41624d",
   "metadata": {},
   "outputs": [],
   "source": [
    "from pyspark.ml.feature import Imputer"
   ]
  },
  {
   "cell_type": "code",
   "execution_count": 70,
   "id": "e918fe95",
   "metadata": {},
   "outputs": [],
   "source": [
    "# filling the numeric columns with mean\n",
    "\n",
    "imputer = Imputer(strategy='mean',\n",
    "             inputCols=['age','Experience','Salary'],\n",
    "             outputCols=[\"{}_imputed\".format(i) for i in ['age','Experience','Salary']])\n"
   ]
  },
  {
   "cell_type": "code",
   "execution_count": 71,
   "id": "56486253",
   "metadata": {},
   "outputs": [
    {
     "name": "stdout",
     "output_type": "stream",
     "text": [
      "+------+----+----------+------+-----------+------------------+--------------+\n",
      "|  Name| age|Experience|Salary|age_imputed|Experience_imputed|Salary_imputed|\n",
      "+------+----+----------+------+-----------+------------------+--------------+\n",
      "|   Sam|  31|        10| 30000|         31|                10|         30000|\n",
      "| Carry|  30|         8| 25000|         30|                 8|         25000|\n",
      "| Jimmy|  29|         4| 20000|         29|                 4|         20000|\n",
      "|  Paul|  24|         3| 20000|         24|                 3|         20000|\n",
      "|Harsha|  21|         1| 15000|         21|                 1|         15000|\n",
      "|  Andy|  23|         2| 18000|         23|                 2|         18000|\n",
      "|Alisha|null|      null| 40000|         28|                 5|         40000|\n",
      "|  null|  34|        10| 38000|         34|                10|         38000|\n",
      "|  null|  36|      null|  null|         36|                 5|         25750|\n",
      "+------+----+----------+------+-----------+------------------+--------------+\n",
      "\n"
     ]
    }
   ],
   "source": [
    "imputer.fit(df_spark).transform(df_spark).show()"
   ]
  }
 ],
 "metadata": {
  "kernelspec": {
   "display_name": "Python 3 (ipykernel)",
   "language": "python",
   "name": "python3"
  },
  "language_info": {
   "codemirror_mode": {
    "name": "ipython",
    "version": 3
   },
   "file_extension": ".py",
   "mimetype": "text/x-python",
   "name": "python",
   "nbconvert_exporter": "python",
   "pygments_lexer": "ipython3",
   "version": "3.9.13"
  }
 },
 "nbformat": 4,
 "nbformat_minor": 5
}
