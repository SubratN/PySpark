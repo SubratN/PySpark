{
 "cells": [
  {
   "cell_type": "code",
   "execution_count": 1,
   "id": "0615e289",
   "metadata": {},
   "outputs": [],
   "source": [
    "import pyspark\n",
    "from pyspark.sql import SparkSession"
   ]
  },
  {
   "cell_type": "code",
   "execution_count": 4,
   "id": "520f130a",
   "metadata": {},
   "outputs": [],
   "source": [
    "spark = SparkSession.builder.appName('filter&aggregate').getOrCreate()"
   ]
  },
  {
   "cell_type": "code",
   "execution_count": 5,
   "id": "0421782e",
   "metadata": {},
   "outputs": [
    {
     "data": {
      "text/html": [
       "\n",
       "            <div>\n",
       "                <p><b>SparkSession - in-memory</b></p>\n",
       "                \n",
       "        <div>\n",
       "            <p><b>SparkContext</b></p>\n",
       "\n",
       "            <p><a href=\"http://LAPTOP-N7GS2PFU:4040\">Spark UI</a></p>\n",
       "\n",
       "            <dl>\n",
       "              <dt>Version</dt>\n",
       "                <dd><code>v3.3.1</code></dd>\n",
       "              <dt>Master</dt>\n",
       "                <dd><code>local[*]</code></dd>\n",
       "              <dt>AppName</dt>\n",
       "                <dd><code>filter</code></dd>\n",
       "            </dl>\n",
       "        </div>\n",
       "        \n",
       "            </div>\n",
       "        "
      ],
      "text/plain": [
       "<pyspark.sql.session.SparkSession at 0x1952bb51b20>"
      ]
     },
     "execution_count": 5,
     "metadata": {},
     "output_type": "execute_result"
    }
   ],
   "source": [
    "spark"
   ]
  },
  {
   "cell_type": "code",
   "execution_count": 16,
   "id": "093ca2df",
   "metadata": {},
   "outputs": [],
   "source": [
    "df = spark.read.csv('Employee.csv', header=True, inferSchema=True)"
   ]
  },
  {
   "cell_type": "code",
   "execution_count": 17,
   "id": "159af51d",
   "metadata": {},
   "outputs": [
    {
     "name": "stdout",
     "output_type": "stream",
     "text": [
      "+------+---+----------+------+\n",
      "|  Name|age|Experience|Salary|\n",
      "+------+---+----------+------+\n",
      "|   Sam| 31|        10| 30000|\n",
      "| Carry| 30|         8| 25000|\n",
      "| Jimmy| 29|         4| 20000|\n",
      "|  Paul| 24|         3| 20000|\n",
      "|Harsha| 21|         1| 15000|\n",
      "|  Andy| 23|         2| 18000|\n",
      "|Alisha| 24|         3| 40000|\n",
      "| Billy| 34|        10| 38000|\n",
      "+------+---+----------+------+\n",
      "\n"
     ]
    }
   ],
   "source": [
    "df.show()"
   ]
  },
  {
   "cell_type": "markdown",
   "id": "61e4ebf3",
   "metadata": {},
   "source": [
    "## Filter Operations"
   ]
  },
  {
   "cell_type": "code",
   "execution_count": 18,
   "id": "ab50b18c",
   "metadata": {},
   "outputs": [
    {
     "name": "stdout",
     "output_type": "stream",
     "text": [
      "+------+---+----------+------+\n",
      "|  Name|age|Experience|Salary|\n",
      "+------+---+----------+------+\n",
      "| Jimmy| 29|         4| 20000|\n",
      "|  Paul| 24|         3| 20000|\n",
      "|Harsha| 21|         1| 15000|\n",
      "|  Andy| 23|         2| 18000|\n",
      "+------+---+----------+------+\n",
      "\n"
     ]
    }
   ],
   "source": [
    "### Salary of the people less than or equal to 20000\n",
    "\n",
    "df.filter(\"Salary<= 20000\").show()"
   ]
  },
  {
   "cell_type": "code",
   "execution_count": 19,
   "id": "362da58c",
   "metadata": {},
   "outputs": [
    {
     "name": "stdout",
     "output_type": "stream",
     "text": [
      "+------+---+----------+------+\n",
      "|  Name|age|Experience|Salary|\n",
      "+------+---+----------+------+\n",
      "|   Sam| 31|        10| 30000|\n",
      "| Carry| 30|         8| 25000|\n",
      "|Alisha| 24|         3| 40000|\n",
      "| Billy| 34|        10| 38000|\n",
      "+------+---+----------+------+\n",
      "\n"
     ]
    }
   ],
   "source": [
    "### Salary of the people greater than to 20000\n",
    "\n",
    "df.filter(\"Salary > 20000\").show()"
   ]
  },
  {
   "cell_type": "code",
   "execution_count": 20,
   "id": "5e3a9039",
   "metadata": {},
   "outputs": [
    {
     "name": "stdout",
     "output_type": "stream",
     "text": [
      "+------+------+\n",
      "|  Name|Salary|\n",
      "+------+------+\n",
      "|   Sam| 30000|\n",
      "| Carry| 25000|\n",
      "|Alisha| 40000|\n",
      "| Billy| 38000|\n",
      "+------+------+\n",
      "\n"
     ]
    }
   ],
   "source": [
    "## Show the Name and Salary of the people who are getting more than 20000\n",
    "\n",
    "df.filter(\"Salary > 20000\").select([\"Name\",\"Salary\"]).show()"
   ]
  },
  {
   "cell_type": "code",
   "execution_count": 30,
   "id": "87b9ed05",
   "metadata": {},
   "outputs": [
    {
     "name": "stdout",
     "output_type": "stream",
     "text": [
      "+-----+---+----------+------+\n",
      "| Name|age|Experience|Salary|\n",
      "+-----+---+----------+------+\n",
      "|  Sam| 31|        10| 30000|\n",
      "|Billy| 34|        10| 38000|\n",
      "+-----+---+----------+------+\n",
      "\n"
     ]
    }
   ],
   "source": [
    "## Show the details of employee where salary is greater than 20000 and age is greater than 30\n",
    "\n",
    "df.filter((df['Salary'] >= 20000) & (df['age'] > 30)).show()"
   ]
  },
  {
   "cell_type": "code",
   "execution_count": 31,
   "id": "dd94b5ac",
   "metadata": {},
   "outputs": [
    {
     "name": "stdout",
     "output_type": "stream",
     "text": [
      "+------+---+----------+------+\n",
      "|  Name|age|Experience|Salary|\n",
      "+------+---+----------+------+\n",
      "|   Sam| 31|        10| 30000|\n",
      "| Carry| 30|         8| 25000|\n",
      "|Alisha| 24|         3| 40000|\n",
      "| Billy| 34|        10| 38000|\n",
      "+------+---+----------+------+\n",
      "\n"
     ]
    }
   ],
   "source": [
    "## Show the details of employee where salary is not less then equal to 20000\n",
    "\n",
    "df.filter(~(df['Salary']<=20000)).show()"
   ]
  },
  {
   "cell_type": "markdown",
   "id": "2e40fbcc",
   "metadata": {},
   "source": [
    "## Group by and Aggregate operations"
   ]
  },
  {
   "cell_type": "code",
   "execution_count": 32,
   "id": "ba3180bf",
   "metadata": {},
   "outputs": [],
   "source": [
    "df_emp = spark.read.csv('Emp2.csv', header= True, inferSchema= True)"
   ]
  },
  {
   "cell_type": "code",
   "execution_count": 34,
   "id": "358a2b9c",
   "metadata": {},
   "outputs": [
    {
     "name": "stdout",
     "output_type": "stream",
     "text": [
      "+------+------------+------+\n",
      "|  Name|  Department|Salary|\n",
      "+------+------------+------+\n",
      "|   Sam|Data Science| 30000|\n",
      "| Carry|    Big Data| 25000|\n",
      "| Jimmy|         IOT| 20000|\n",
      "|  Paul|Data Science| 20000|\n",
      "|Harsha|    Big Data| 15000|\n",
      "|  Andy|         IOT| 18000|\n",
      "|Alisha|    Big Data| 40000|\n",
      "| Billy|Data Science| 38000|\n",
      "|   Ben|         IOT| 26000|\n",
      "+------+------------+------+\n",
      "\n"
     ]
    }
   ],
   "source": [
    "df_emp.show()"
   ]
  },
  {
   "cell_type": "code",
   "execution_count": 37,
   "id": "776906ec",
   "metadata": {},
   "outputs": [
    {
     "name": "stdout",
     "output_type": "stream",
     "text": [
      "+------------+-----------+\n",
      "|  Department|sum(Salary)|\n",
      "+------------+-----------+\n",
      "|         IOT|      64000|\n",
      "|    Big Data|      80000|\n",
      "|Data Science|      88000|\n",
      "+------------+-----------+\n",
      "\n"
     ]
    }
   ],
   "source": [
    "## Show total sum of salary group by Dept\n",
    "\n",
    "df_emp.groupBy('Department').sum().show()"
   ]
  },
  {
   "cell_type": "code",
   "execution_count": 39,
   "id": "e5c5855e",
   "metadata": {},
   "outputs": [
    {
     "name": "stdout",
     "output_type": "stream",
     "text": [
      "+------------+-----+\n",
      "|  Department|count|\n",
      "+------------+-----+\n",
      "|         IOT|    3|\n",
      "|    Big Data|    3|\n",
      "|Data Science|    3|\n",
      "+------------+-----+\n",
      "\n"
     ]
    }
   ],
   "source": [
    "## Total num of emp in each dept\n",
    "\n",
    "df_emp.groupBy('Department').count().show()"
   ]
  },
  {
   "cell_type": "code",
   "execution_count": 42,
   "id": "e0609457",
   "metadata": {},
   "outputs": [
    {
     "name": "stdout",
     "output_type": "stream",
     "text": [
      "+------------+------------------+\n",
      "|  Department|       avg(Salary)|\n",
      "+------------+------------------+\n",
      "|         IOT|21333.333333333332|\n",
      "|    Big Data|26666.666666666668|\n",
      "|Data Science|29333.333333333332|\n",
      "+------------+------------------+\n",
      "\n"
     ]
    }
   ],
   "source": [
    "## Average salary in each dept\n",
    "\n",
    "df_emp.groupBy('Department').mean().show()"
   ]
  },
  {
   "cell_type": "code",
   "execution_count": 41,
   "id": "82078771",
   "metadata": {},
   "outputs": [
    {
     "name": "stdout",
     "output_type": "stream",
     "text": [
      "+-----------+\n",
      "|sum(Salary)|\n",
      "+-----------+\n",
      "|     232000|\n",
      "+-----------+\n",
      "\n"
     ]
    }
   ],
   "source": [
    "## Total salary \n",
    "\n",
    "df_emp.agg({'Salary':'sum'}).show()"
   ]
  },
  {
   "cell_type": "code",
   "execution_count": null,
   "id": "f6000541",
   "metadata": {},
   "outputs": [],
   "source": []
  }
 ],
 "metadata": {
  "kernelspec": {
   "display_name": "Python 3 (ipykernel)",
   "language": "python",
   "name": "python3"
  },
  "language_info": {
   "codemirror_mode": {
    "name": "ipython",
    "version": 3
   },
   "file_extension": ".py",
   "mimetype": "text/x-python",
   "name": "python",
   "nbconvert_exporter": "python",
   "pygments_lexer": "ipython3",
   "version": "3.9.13"
  }
 },
 "nbformat": 4,
 "nbformat_minor": 5
}
